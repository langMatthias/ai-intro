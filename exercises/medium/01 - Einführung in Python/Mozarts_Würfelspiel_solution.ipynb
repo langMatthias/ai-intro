{
  "nbformat": 4,
  "nbformat_minor": 0,
  "metadata": {
    "colab": {
      "provenance": []
    },
    "kernelspec": {
      "name": "python3",
      "display_name": "Python 3"
    },
    "language_info": {
      "name": "python"
    }
  },
  "cells": [
    {
      "cell_type": "markdown",
      "source": [
        "# Würfelspiele (Python Übung)\n",
        "Im Rahmen dieses Tutorials lernen wir den Umgang mit der Programmiersprache Python. Mit dieser Programmiersprache wird ein Großteil der KI-Modelle trainiert.\n",
        "\n",
        "Hier lernen wir:\n",
        "- das Arbeiten mit Zufall in Programmen\n",
        "- das Verändern und Generieren von Noten mit Programmen\n",
        "- das Laden von MIDI-Dateien in Python mit der music21 Library\n"
      ],
      "metadata": {
        "id": "QP-laI4OwAw5"
      }
    },
    {
      "cell_type": "markdown",
      "source": [
        "## Importe\n",
        "Um Midi-Dateien zu laden und für zufällige Zahlen des Würfelspiels benötigen wir einige Bibliotheken, die wir einfach importieren können. Klicke dazu auf das Play-Symbol in der linken oberen Ecke des Code-Blocks."
      ],
      "metadata": {
        "id": "6H1HRqBIwD_O"
      }
    },
    {
      "cell_type": "code",
      "source": [
        "import music21\n",
        "import random\n",
        "import copy\n",
        "from google.colab import files\n",
        "import pandas as pd\n",
        "!wget \"https://github.com/langMatthias/ai-intro/raw/main/exercises/medium/01%20-%20Einf%C3%BChrung%20in%20Python/MOZART-W%C3%BCrfelspiel.mid\" --quiet\n",
        "!wget \"https://github.com/langMatthias/ai-intro/raw/main/exercises/medium/01%20-%20Einf%C3%BChrung%20in%20Python/mozart_table.csv\" --quiet"
      ],
      "metadata": {
        "id": "3Q9T3PKtv-Zk"
      },
      "execution_count": 75,
      "outputs": []
    },
    {
      "cell_type": "markdown",
      "source": [
        "## Funktionen\n",
        "In Python (wie auch in vielen anderen Programmiersprachen) kannst du sogenannte Funktionen definieren. Diese können dann mit unterschiedlichen Parametern aufgerufen werden.\n",
        "Um eine MIDI-Datei zu laden, haben wir hier schon einmal eine Funktion vorbereitet. Sehe dir genau an, wie sie funktioniert. Wir nutzen die music21 Bibliothek um die MIDI-Datei zu laden. Als Parameter übergeben wir der Funktion den Pfad zur MIDI-Datei. Das Ergebnis ist eine music21 Score."
      ],
      "metadata": {
        "id": "kAguQXaywyCp"
      }
    },
    {
      "cell_type": "code",
      "source": [
        "def load_midi(filepath):\n",
        "    \"\"\"\n",
        "    Eine Funktion, die eine MIDI-Datei von einem Dateipfad lädt und als music21 Score zurück gibt.\n",
        "    \"\"\"\n",
        "    score = music21.converter.parse(filepath)\n",
        "    return score"
      ],
      "metadata": {
        "id": "g_4WvbaxxM-s"
      },
      "execution_count": 76,
      "outputs": []
    },
    {
      "cell_type": "markdown",
      "source": [
        "Als nächstes nutzen wir die Funktion um die MIDI-Datei des Würfelspiels von Mozart zu laden."
      ],
      "metadata": {
        "id": "PFsYJYVXxk1Z"
      }
    },
    {
      "cell_type": "code",
      "source": [
        "mozart_score = load_midi(\"MOZART-Würfelspiel.mid\")"
      ],
      "metadata": {
        "id": "uTAUc2CMx1FZ"
      },
      "execution_count": 77,
      "outputs": []
    },
    {
      "cell_type": "markdown",
      "source": [
        "## Anzahl der enthaltenen Takte\n",
        "Um aus den in der MIDI-Datei enthaltenen Takten auszuwählen, müssen wir wissen wie viele Takte darin enthalten sind. Dazu implementieren wir die Funktion `get_number_of_measures` welche eine music 21 Score als Parameter übergeben bekommt und die Anzahl der in der Score enthaltenen Takte zurück gibt.\n",
        "\n",
        "Die Takte erhalten wir als eine Liste die wir `measures` nennen. Dafür nutzen wir einen komplizierteren Aufruf, den du nicht im Detail verstehen musst. Um nun die Anzahl der Takte zu erhalten können wir den Python-Befehl `len()` nutzen. Versuche also mit Hilfe dieser Funktion die Länge der Takt-Liste zu erhalten. Damit unsere Funktion `get_number_of_measures` nun auch diesen Wert wieder zurück gibt müssen wir noch ein return statement einfügen. Schaffst du es, dass der folgende Code-Block folgenden Text ausgibt?\n",
        "\n",
        "> In dieser MIDI-Datei wurden 176 Takte gefunden.\n",
        "\n",
        "Für die Ausgabe dieses Textes nutzen wir übrigens die print() Funktion mit der wir in Python alles als Text ausgeben können."
      ],
      "metadata": {
        "id": "JEcrkS1txHBJ"
      }
    },
    {
      "cell_type": "code",
      "source": [
        "def get_number_of_measures(score):\n",
        "    \"\"\"\n",
        "    Diese Funktion erhält eine music21 Score und gibt die Anzahl der darin enthaltenen Takte zurück.\n",
        "    \"\"\"\n",
        "    measures = score.parts[0].getElementsByClass('Measure')\n",
        "    return len(measures)\n",
        "\n",
        "num_measures = get_number_of_measures(mozart_score)\n",
        "print(f\"In dieser MIDI-Datei wurden {num_measures} Takte gefunden.\")"
      ],
      "metadata": {
        "id": "LwZFGUF_xaxo",
        "colab": {
          "base_uri": "https://localhost:8080/"
        },
        "outputId": "66d54cad-1415-4750-b6cd-c1846411bc15"
      },
      "execution_count": 78,
      "outputs": [
        {
          "output_type": "stream",
          "name": "stdout",
          "text": [
            "In dieser MIDI-Datei wurden 176 Takte gefunden.\n"
          ]
        }
      ]
    },
    {
      "cell_type": "markdown",
      "source": [
        "## Den richtigen Takt auswählen\n",
        "Für das Würfelspiel benötigen wir jetzt eine Möglichkeit den richtigen Takt aus einer Score auszuwählen. Dafür haben wir schon einmal die Funktion `get_measure` vorbereitet.\n",
        "\n",
        "Sehe dir diese Funktion genau an. Es fehlt genau der Teil, der den richtigen Takt auswählt und als `selected_measure` abspeichert. Wie könnten wir das lösen?\n",
        "\n",
        "Tipp: Erinnere ich an die Liste an Takten, die wir für `get_number_of_measures` genutzt haben. Vielleicht können wir diese nutzen um daraus die Takte auszuwählen. Recherchiere, wie man in Python ein Element aus einer Liste auswählt.\n",
        "Beachte hierbei noch, dass diese Funktion den ersten Takt mit dem Aufruf `get_measure(mozart_score, 1)` auswählen soll. Bei Python fängt die Zählung der Elemente in einer Liste aber bei 0 an. Wie können wir das lösen?\n",
        "\n",
        "Für das `return` Statement nutzen wir dann noch die Python Bibliothek `copy` um nicht den Original-Takt sondern eine Kopie dessen zurück zu geben. Das machen wir um sicher zu gehen dass wir die Original-Takte nicht verändern."
      ],
      "metadata": {
        "id": "iSTTkFX90SmZ"
      }
    },
    {
      "cell_type": "code",
      "source": [
        "def get_measure(score, measure_number):\n",
        "    \"\"\"\n",
        "    Diese Funktion erhält eine music21 Score und eine Taktzahl und gibt eine Kopie des angegebenen Taktes zurück.\n",
        "    Achtung: Wir müssen 1 von der angegeben Taktzahl subtrahieren, da die Zählung der Takte bei music21 mit 0 beginnt.\n",
        "    \"\"\"\n",
        "    if measure_number <= 0:\n",
        "      print(\"Die Zählung der Taktzahlen beginnt mit 1.\")\n",
        "      return None\n",
        "    try:\n",
        "      measures = score.parts[0].getElementsByClass('Measure')\n",
        "      selected_measure = measures[measure_number-1]\n",
        "      return copy.deepcopy(selected_measure)\n",
        "    except:\n",
        "      print(f\"Takt {measure_number} konnte leider nicht ausgewählt werden, da die gegebene Score nur {get_number_of_measures(score)} Takte enthält.\")\n",
        "      return None\n"
      ],
      "metadata": {
        "id": "kxF_7l_Fxo8g"
      },
      "execution_count": 79,
      "outputs": []
    },
    {
      "cell_type": "markdown",
      "source": [
        "Nun können wir unsere Funktion aufrufen und testen, ob sie korrekt funktioniert. Dafür haben wir hier einen Test vorbereitet. Führe den folgenden Codeblock aus um zu testen, ob deine Implementierung korrekt funktioniert."
      ],
      "metadata": {
        "id": "63OmUt4NRwZ9"
      }
    },
    {
      "cell_type": "code",
      "source": [
        "# Test\n",
        "first_measure = get_measure(mozart_score, 1)\n",
        "try:\n",
        "  first_chord = first_measure.notes[0]\n",
        "  assert first_chord.notes[0].pitch == music21.pitch.Pitch('F5'), \"Es scheint, als wäre der falsche Takt geladen worden. Achte darauf, dass Takt 1 in der Liste der Takte als Element 0 gespeichert ist.\"\n",
        "  print(\"Der Test war erfolgreich.\")\n",
        "except Exception as e:\n",
        "  print(f\"Der Test ist leider fehlgeschlagen. Verifiziere, dass die Funtion get_measure() einen music21 Measure zurückgibt.\")\n",
        "  print(e)"
      ],
      "metadata": {
        "colab": {
          "base_uri": "https://localhost:8080/"
        },
        "id": "WeoEyMDU2Qy5",
        "outputId": "028250e9-04b3-4d3a-9064-2d928051a22d"
      },
      "execution_count": 80,
      "outputs": [
        {
          "output_type": "stream",
          "name": "stdout",
          "text": [
            "Der Test war erfolgreich.\n"
          ]
        }
      ]
    },
    {
      "cell_type": "markdown",
      "source": [
        "Damit wir nun mehrere Takte mit ihren Taktzahlen auswählen können benötigen wir eine Funktion, die wir mit einer Score und einer Liste an Taktzahlen aufrufen können. Diese soll dann die score 21 Measures als Liste zurückgeben. Da wir hier mehrfach die gleiche Aufgabe ausführen wollen, eignet sich ein sogenannter for-Loop. Mache dich mit dem Konzept des for-loops vertraut (https://wiki.python.org/moin/ForLoop) und versuche dann die Funktion zu implementieren."
      ],
      "metadata": {
        "id": "OoresM_cSbEw"
      }
    },
    {
      "cell_type": "code",
      "source": [
        "def select_measures(score, measure_numbers):\n",
        "    \"\"\"\n",
        "    Eine Funktion, die mehrere Takte einer Score auswählt und als Liste zurück gibt.\n",
        "    Die Taktzahlen der einzelnen Takte werden auch als Liste übergeben.\n",
        "    \"\"\"\n",
        "    selected_measures = []\n",
        "    for measure_number in measure_numbers:\n",
        "      selected_measures.append(get_measure(score, measure_number))\n",
        "    return selected_measures"
      ],
      "metadata": {
        "id": "5UmTrOnRyQdS"
      },
      "execution_count": 81,
      "outputs": []
    },
    {
      "cell_type": "markdown",
      "source": [
        "Auch für diese Funktion haben wir einen kleinen Test vorbereitet."
      ],
      "metadata": {
        "id": "nLzoeyUanX_c"
      }
    },
    {
      "cell_type": "code",
      "source": [
        "try:\n",
        "  test_measures = [1,42,123, 176]\n",
        "  test_selection = select_measures(mozart_score, test_measures)\n",
        "  for test_measure, selected_measure in zip(test_measures, test_selection):\n",
        "    assert test_measure == selected_measure.number, f\"Es sieht aus, als wäre ein falscher Takt ausgewählt worden. Erwartet wurde Takt {test_measure}, ausgewählt wurde allerdings Takt {selected_measure.number}\"\n",
        "  print(\"Der Test war erfolgreich.\")\n",
        "except Exception as e:\n",
        "    print(f\"Der Test ist leider fehlgeschlagen. Verifiziere, dass die Funtion get_measure() einen music21 Measure zurückgibt.\")\n",
        "    print(e)"
      ],
      "metadata": {
        "colab": {
          "base_uri": "https://localhost:8080/"
        },
        "id": "q8LryhVmS7lC",
        "outputId": "170dac3a-8097-4790-ad7e-0592669071a7"
      },
      "execution_count": 82,
      "outputs": [
        {
          "output_type": "stream",
          "name": "stdout",
          "text": [
            "Der Test war erfolgreich.\n"
          ]
        }
      ]
    },
    {
      "cell_type": "markdown",
      "source": [
        "Nun können wir aus der Liste der ausgewählten Takte eine music21 Score generieren um diese dann als MIDI-Datei zu speichern. Dafür erstellen wir eine neue, leere music21 Score und einen music21 Part. Nutze nun die Funktion `part.append()` um alle Takte dem Part zuzuweisen."
      ],
      "metadata": {
        "id": "HimWwKO-ns2s"
      }
    },
    {
      "cell_type": "code",
      "source": [
        "def create_score(measures, time_signature=None):\n",
        "    \"\"\"\n",
        "    Erstellt eine music21 Score aus einer Liste an music21 Takten.\n",
        "    Damit die Noten korrekt in Notations-Software angezeigt werden, kann hier auch die Taktart angegeben werden (z.B. '3/8' für Mozarts Würfelspiel)\n",
        "    \"\"\"\n",
        "    score = music21.stream.Score()\n",
        "    part = music21.stream.Part()\n",
        "    for measure in measures:\n",
        "        part.append(measure)\n",
        "    score.append(part)\n",
        "    if time_signature is not None:\n",
        "      score.parts[0].getElementsByClass('Measure')[0].timeSignature = music21.meter.TimeSignature(time_signature)\n",
        "    return score"
      ],
      "metadata": {
        "id": "328E64P0y583"
      },
      "execution_count": 83,
      "outputs": []
    },
    {
      "cell_type": "markdown",
      "source": [
        "Nun können wir unsere ersten Test-Takte zu einer Score kombinieren. Ergänze den folgenden Codeblock und finden einen Weg, dir die generierte Score anzuhören."
      ],
      "metadata": {
        "id": "rztbE9BEphV-"
      }
    },
    {
      "cell_type": "code",
      "source": [
        "# creating a music21 Score from our test_selection\n",
        "test_score = create_score(test_selection, time_signature='3/8')\n",
        "# Listening to the test_score\n",
        "test_score.show('midi')"
      ],
      "metadata": {
        "colab": {
          "base_uri": "https://localhost:8080/",
          "height": 134
        },
        "id": "LZswEeqxp3RT",
        "outputId": "522fb9d2-197e-479a-ef06-906a277711f7"
      },
      "execution_count": 84,
      "outputs": [
        {
          "output_type": "display_data",
          "data": {
            "text/plain": [
              "<IPython.core.display.HTML object>"
            ],
            "text/html": [
              "\n",
              "        <div id=\"midiPlayerDiv68477\"></div>\n",
              "        <link rel=\"stylesheet\" href=\"https://cuthbertLab.github.io/music21j/css/m21.css\">\n",
              "        \n",
              "        <script\n",
              "        src=\"https://cdnjs.cloudflare.com/ajax/libs/require.js/2.3.6/require.min.js\"\n",
              "        ></script>\n",
              "    \n",
              "        <script>\n",
              "        function midiPlayerDiv68477_play() {\n",
              "            const rq = require.config({\n",
              "                paths: {\n",
              "                    'music21': 'https://cuthbertLab.github.io/music21j/releases/music21.debug',\n",
              "                }\n",
              "            });\n",
              "            rq(['music21'], function(music21) {\n",
              "                mp = new music21.miditools.MidiPlayer();\n",
              "                mp.addPlayer(\"#midiPlayerDiv68477\");\n",
              "                mp.base64Load(\"data:audio/midi;base64,TVRoZAAAAAYAAQACJ2BNVHJrAAAAGgD/UQMKLCsA/1kCAAAA/1gEAwMYCM5g/y8ATVRyawAAAtIA/wMFUGlhbm8AwAAA4ABAAMAAAMAAAMAAAMAAAMAAAMAAAMAAAMAAAMAAAMAAAMAAAMAAAMAAAMAAAMAAAMAAAMAAAMAAAMAAAMAAAMAAAMAAAMAAAMAAAMAAAMAAAMAAAMAAAMAAAMAAAMAAAMAAAMAAAMAAAMAAAMAAAMAAAMAAAMAAAMAAAMAAAMAAAMAAAMAAAMAAAMAAAMAAAMAAAMAAAMAAAMAAAMAAAMAAAMAAAMAAAMAAAMAAAMAAAMAAAMAAAMAAAMAAAMAAAMAAAMAAAMAAAMAAAMAAAMAAAMAAAMAAAMAAAMAAAMAAAMAAAMAAAMAAAMAAAMAAAMAAAMAAAMAAAMAAAMAAAMAAAMAAAMAAAMAAAMAAAMAAAMAAAMAAAMAAAMAAAMAAAMAAAMAAAMAAAMAAAMAAAMAAAMAAAMAAAMAAAMAAAMAAAMAAAMAAAMAAAMAAAMAAAMAAAMAAAMAAAMAAAMAAAMAAAMAAAMAAAMAAAMAAAMAAAMAAAMAAAMAAAMAAAMAAAMAAzmCQTUAAkDVApzCATQAAgDUAAJBKQACQMkCnMIBKAACAMgAAkE9AAJA3QKcwgE8AAIA3AACQR0AAkCtAk1iARwAAkEhAk1iASAAAkEpAk1iASgAAkEdAk1iAKwAAgEcAAJBFQJNYgEUAAJBDQJNYgEMAAJBDQACQR0AAkEpAAJBPQACQK0AAkCtApzCAKwAAgCsAAJA3QACQO0CTWIA3AACAOwAAkDVAAJA3QJNYgEMAAIBHAACASgAAgE8AAIA1AACANwAAkDRAAJA2QJNYgDQAAIA2AACQMkAAkDRAk1iAMgAAgDQAAJBRQACQL0AAkDJAk1iAUQAAkE9Ak1iATwAAkFNAk1iAUwAAkE9Ak1iALwAAgDIAAIBPAACQSkAAkC9AAJAyQJNYkE9Ak1iASgAAgC8AAIAyAACATwDOYP8vAA==\");\n",
              "            });\n",
              "        }\n",
              "        if (typeof require === 'undefined') {\n",
              "            setTimeout(midiPlayerDiv68477_play, 2000);\n",
              "        } else {\n",
              "            midiPlayerDiv68477_play();\n",
              "        }\n",
              "        </script>"
            ]
          },
          "metadata": {}
        }
      ]
    },
    {
      "cell_type": "markdown",
      "source": [
        "Um die generierte music21 Score nun auch als MIDI zu speichern fehlt uns noch eine Funktion `save_midi`. Finde heraus, wie man MIDI Files mit music21 speichert und speichere die MIDI-Datei mit dem Namen `test.mid`. Du findest die gespeicherte Datei dann, indem du in der linken Spalte auf das Ordner-Symbol klickst. Dort kannst du dann auch das File herunterladen und auf deinem Computer weiter bearbeiten."
      ],
      "metadata": {
        "id": "PlLYLUidqLbj"
      }
    },
    {
      "cell_type": "code",
      "source": [
        "def save_midi(score, filepath):\n",
        "    \"\"\"\n",
        "    Speichert eine music21 Score am angegebenen Dateipfad\n",
        "    \"\"\"\n",
        "    score.write('midi', fp=filepath)"
      ],
      "metadata": {
        "id": "hvCry-d4zGuQ"
      },
      "execution_count": 85,
      "outputs": []
    },
    {
      "cell_type": "code",
      "source": [
        "save_midi(create_score(test_selection), 'test.mid')"
      ],
      "metadata": {
        "id": "Q0z0nscvn8R4"
      },
      "execution_count": 86,
      "outputs": []
    },
    {
      "cell_type": "markdown",
      "source": [
        "## Zufall\n",
        "Für das Würfelspiel fehlt uns jetzt noch der Würfel. Hierbei lassen wir einfach den Computer für uns würfeln. Nutze die Python-Bibliothek random um eine zufällige Zahl mit der Funktion `roll_dice()` auszugeben.\n",
        "\n",
        "Bei dieser Funktion gibt es die Besonderheit, dass der Parameter `number_of_faces` mit einem Standard-Wert (default) von 6 übergeben wird. Diesen Parameter können wir also explizit setzen und zum Beispiel einen 12-seitigen Würfel simulieren. Wir müssen den Parameter aber nicht setzen. Wird er nicht mit übergeben, so wird der Default-Wert von 6 genutzt. Versuche nun die Funktion `roll_dice()` zu ergänzen."
      ],
      "metadata": {
        "id": "0FLvBIfTqxOe"
      }
    },
    {
      "cell_type": "code",
      "source": [
        "def roll_dice(number_of_faces=6):\n",
        "    \"\"\"\n",
        "    Simuliert das Werfen eines Würfels. Dabei kann die Anzahl der Seiten angegeben werden.\n",
        "    \"\"\"\n",
        "    return random.randint(1, number_of_faces)"
      ],
      "metadata": {
        "id": "jTts6npYzNhW"
      },
      "execution_count": 87,
      "outputs": []
    },
    {
      "cell_type": "markdown",
      "source": [
        "Auch dafür haben wir wieder einen kleinen Test geschrieben."
      ],
      "metadata": {
        "id": "nrrMJljcuipI"
      }
    },
    {
      "cell_type": "code",
      "source": [
        "faces = set()\n",
        "for i in range(1000):\n",
        "  roll = roll_dice()\n",
        "  assert roll > 0 and roll < 7, f\"Dein Würfel hat eine unerwartete Zahl gewürfelt: {roll}.\"\n",
        "  faces.add(roll)\n",
        "assert faces == {1,2,3,4,5,6}, f\"Dein Würfel konnte folgende Zahlen nicht würfeln: {set([1,2,3,4,5,6]).difference(faces)}.\"\n",
        "print(\"Der Test war erfolgreich.\")"
      ],
      "metadata": {
        "colab": {
          "base_uri": "https://localhost:8080/"
        },
        "id": "tNZy-JkrsM3a",
        "outputId": "13a7b262-8169-4047-a867-10c126d433b9"
      },
      "execution_count": 88,
      "outputs": [
        {
          "output_type": "stream",
          "name": "stdout",
          "text": [
            "Der Test war erfolgreich.\n"
          ]
        }
      ]
    },
    {
      "cell_type": "markdown",
      "source": [
        "Um schließlich das Würfelspiel komplett zu machen, müssen wir noch eine Funktion schreiben, die den Würfel mehrfach hintereinander wirft. Implementiere die Funktion `wuerfelspiel()`, die das mehrmalige Werfen eines Würfels simuliert und das Ergebnis als Liste zurück gibt."
      ],
      "metadata": {
        "id": "B8nz1cymuoZm"
      }
    },
    {
      "cell_type": "code",
      "source": [
        "def wuerfelspiel(number_of_repetitions, number_of_faces=6):\n",
        "    \"\"\"\n",
        "    Simuliert das wiederholte Werfen eines Würfels und gibt die geworfenen Würfe als Liste zurück.\n",
        "    Lösung mit List Comprehension.\n",
        "    \"\"\"\n",
        "    return [roll_dice(number_of_faces=number_of_faces) for _ in range(number_of_repetitions)]\n",
        "\n",
        "def wuerfelspiel(number_of_repetitions, number_of_faces=6):\n",
        "    \"\"\"\n",
        "    Simuliert das wiederholte Werfen eines Würfels und gibt die geworfenen Würfe als Liste zurück.\n",
        "    Lösung mit For-Loop.\n",
        "    \"\"\"\n",
        "    rolls = []\n",
        "    for i in range(number_of_repetitions):\n",
        "      rolls.append(roll_dice(number_of_faces=number_of_faces))\n",
        "    return rolls"
      ],
      "metadata": {
        "id": "dygn6wlPzWsF"
      },
      "execution_count": 89,
      "outputs": []
    },
    {
      "cell_type": "markdown",
      "source": [
        "Auch hierfür gibt es wieder einen Test."
      ],
      "metadata": {
        "id": "vihT_B-SvD11"
      }
    },
    {
      "cell_type": "code",
      "source": [
        "rolls = wuerfelspiel(1000)\n",
        "assert type(rolls) is list\n",
        "possibilities = set(rolls)\n",
        "possible_throws = {1,2,3,4,5,6}\n",
        "assert len(possibilities - possible_throws) == 0, f\"Dein Würfel konnte mehr Zahlen als erwartet würfeln {possibilities.difference(possible_throws)}\"\n",
        "assert possibilities == possible_throws, f\"Dein Würfel konnte folgende Zahlen nicht würfeln: {possible_throws.difference(possibilities)}.\"\n",
        "print(\"Der Test war erfolgreich.\")"
      ],
      "metadata": {
        "colab": {
          "base_uri": "https://localhost:8080/"
        },
        "id": "XDOLtbyCvF74",
        "outputId": "8d0c1852-4037-4fa4-bf69-aae928c97b9f"
      },
      "execution_count": 90,
      "outputs": [
        {
          "output_type": "stream",
          "name": "stdout",
          "text": [
            "Der Test war erfolgreich.\n"
          ]
        }
      ]
    },
    {
      "cell_type": "markdown",
      "source": [
        "## Jetzt wird gewürfelt!\n",
        "Um das Würfelspiel komplett durchzuspielen, müssen wir nun einige Schritte nacheinander ausführen.\n",
        "\n",
        "1. Wir generieren eine Liste mit einer beliebigen Anzahl an Würfel-Würfen (Entscheide selbst, wie lange dein Stück werden soll)\n",
        "2. Wir wählen die jeweiligen Takte aus der Score aus\n",
        "3. Wir generieren eine neue Score aus den ausgewählten Takten\n",
        "4. Wir speichern diese Score als MIDI-Datei\n",
        "\n",
        "Führe nun diese Schritte nacheinander aus."
      ],
      "metadata": {
        "id": "P1H-PidZznH_"
      }
    },
    {
      "cell_type": "code",
      "source": [
        "# Generate list of dice rolls\n",
        "wuerfelspiel_selection = wuerfelspiel(16)\n",
        "print(f\"Es wurde {wuerfelspiel_selection} gewürfelt.\")\n",
        "# Get the music21 Measures according to the dice rolls\n",
        "selected_measures = select_measures(mozart_score, wuerfelspiel_selection)\n",
        "# Create a new Score from the selected measures\n",
        "new_score = create_score(selected_measures, time_signature='3/8')\n",
        "# Listen to the MIDI file\n",
        "new_score.show('midi')\n",
        "# Save the MIDI file\n",
        "save_midi(new_score, 'wuerfelspiel.mid')"
      ],
      "metadata": {
        "colab": {
          "base_uri": "https://localhost:8080/",
          "height": 151
        },
        "id": "LT8B-IQe2Dwl",
        "outputId": "f3975258-2f6a-4e15-b002-1e036507b9dd"
      },
      "execution_count": 91,
      "outputs": [
        {
          "output_type": "stream",
          "name": "stdout",
          "text": [
            "Es wurde [5, 3, 5, 2, 4, 6, 4, 1, 1, 3, 4, 6, 6, 2, 2, 6] gewürfelt.\n"
          ]
        },
        {
          "output_type": "display_data",
          "data": {
            "text/plain": [
              "<IPython.core.display.HTML object>"
            ],
            "text/html": [
              "\n",
              "        <div id=\"midiPlayerDiv74364\"></div>\n",
              "        <link rel=\"stylesheet\" href=\"https://cuthbertLab.github.io/music21j/css/m21.css\">\n",
              "        \n",
              "        <script\n",
              "        src=\"https://cdnjs.cloudflare.com/ajax/libs/require.js/2.3.6/require.min.js\"\n",
              "        ></script>\n",
              "    \n",
              "        <script>\n",
              "        function midiPlayerDiv74364_play() {\n",
              "            const rq = require.config({\n",
              "                paths: {\n",
              "                    'music21': 'https://cuthbertLab.github.io/music21j/releases/music21.debug',\n",
              "                }\n",
              "            });\n",
              "            rq(['music21'], function(music21) {\n",
              "                mp = new music21.miditools.MidiPlayer();\n",
              "                mp.addPlayer(\"#midiPlayerDiv74364\");\n",
              "                mp.base64Load(\"data:audio/midi;base64,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\");\n",
              "            });\n",
              "        }\n",
              "        if (typeof require === 'undefined') {\n",
              "            setTimeout(midiPlayerDiv74364_play, 2000);\n",
              "        } else {\n",
              "            midiPlayerDiv74364_play();\n",
              "        }\n",
              "        </script>"
            ]
          },
          "metadata": {}
        }
      ]
    },
    {
      "cell_type": "markdown",
      "source": [
        "Diese Auswahl basiert nur auf den ersten 6 Takten der MIDI-Datei. Um alle zu nutzen, könnten wir aber einfach einen 176-seitigen Würfel simulieren. Generiere nun ein Stück basierend auf allen 176 Takten."
      ],
      "metadata": {
        "id": "-kqK-_67CXC0"
      }
    },
    {
      "cell_type": "code",
      "source": [
        "# Generate list of dice rolls\n",
        "wuerfelspiel_selection = wuerfelspiel(16, number_of_faces=176)\n",
        "print(f\"Es wurde {wuerfelspiel_selection} gewürfelt.\")\n",
        "# Get the music21 Measures according to the dice rolls\n",
        "selected_measures = select_measures(mozart_score, wuerfelspiel_selection)\n",
        "# Create a new Score from the selected measures\n",
        "new_score = create_score(selected_measures, time_signature='3/8')\n",
        "# Listen to the MIDI file\n",
        "new_score.show('midi')\n",
        "# Save the MIDI file\n",
        "save_midi(new_score, 'extended_wuerfelspiel.mid')"
      ],
      "metadata": {
        "colab": {
          "base_uri": "https://localhost:8080/",
          "height": 151
        },
        "id": "9cHNC-p9Cxku",
        "outputId": "043dfe84-8ea3-4890-9f8a-c2b950c23b0e"
      },
      "execution_count": 92,
      "outputs": [
        {
          "output_type": "stream",
          "name": "stdout",
          "text": [
            "Es wurde [63, 131, 65, 40, 77, 6, 14, 126, 104, 8, 23, 153, 174, 46, 79, 33] gewürfelt.\n"
          ]
        },
        {
          "output_type": "display_data",
          "data": {
            "text/plain": [
              "<IPython.core.display.HTML object>"
            ],
            "text/html": [
              "\n",
              "        <div id=\"midiPlayerDiv79736\"></div>\n",
              "        <link rel=\"stylesheet\" href=\"https://cuthbertLab.github.io/music21j/css/m21.css\">\n",
              "        \n",
              "        <script\n",
              "        src=\"https://cdnjs.cloudflare.com/ajax/libs/require.js/2.3.6/require.min.js\"\n",
              "        ></script>\n",
              "    \n",
              "        <script>\n",
              "        function midiPlayerDiv79736_play() {\n",
              "            const rq = require.config({\n",
              "                paths: {\n",
              "                    'music21': 'https://cuthbertLab.github.io/music21j/releases/music21.debug',\n",
              "                }\n",
              "            });\n",
              "            rq(['music21'], function(music21) {\n",
              "                mp = new music21.miditools.MidiPlayer();\n",
              "                mp.addPlayer(\"#midiPlayerDiv79736\");\n",
              "                mp.base64Load(\"data:audio/midi;base64,TVRoZAAAAAYAAQACJ2BNVHJrAAAAFAD/UQMHoSAA/1gEAwMYCM5g/y8ATVRyawAABAgA/wMAAOAAQM5gkExAAJAwQJNYgEwAAJBIQJNYgEgAAJBHQJNYgEcAAJBIQJNYgDAAAIBIAACQQ0CnMIBDAACQSEAAkDBApzCAMAAAkCtApzCASAAAgCsAAJAkQKcwgCQAAJBKQACQMkAAkDZAk1iASgAAkEVAk1iARQAAkEpApzCAMgAAgDYAAIBKAACQTkCnMIBOAACQSEAAkDBAAJA0QJNYgEgAAJBHQJNYgEcAAJBIQJNYgEgAAJBMQJNYgDAAAIA0AACATAAAkENAk1iAQwAAkEhAk1iASAAAkE9AAJAvQACQMkCTWIBPAACQU0CTWIBTAACQT0CnMIAvAACAMgAAgE8AAJBKQACQL0AAkDdApzCASgAAgC8AAIA3AACQQ0AAkDBAAJA0QKcwgEMAAJBIQKcwgDAAAIA0AACASAAAkExApzCATAAAkEhAAJAwQKcwgDAAAJArQKcwgEgAAIArAACQJECnMIAkAACQSEAAkDRAk1iASAAAkENAk1iAQwAAkEhAk1iASAAAkExAk1iANAAAgEwAAJBPQACQNECTWIBPAACANAAAkEhAAJBMQACQMECTWIBIAACATAAAgDAAAJBMQACQMECTWIBMAACQSkCTWIBKAACQTECTWIBMAACQT0CTWIAwAACATwAAkFRAk1iAVAAAkE9Ak1iATwAAkEhAAJAwQKcwgDAAAJArQKcwgEgAAIArAACQJECnMIAkAACQTUAAkDVAk1iATQAAgDUAAJBMQACQNECTWIBMAACANAAAkEpAAJAyQJNYgEoAAIAyAACQTEAAkDRAk1iATAAAgDQAAJBNQACQNUCTWIBNAACANQAAkE9AAJA3QJNYgE8AAIA3AACQSkAAkDBAk1iASgAAkEVAk1iARQAAkE5Ak1iATgAAkEpAk1iAMAAAgEoAAJBRQJNYgFEAAJBOQJNYgE4AAJBDQACQMEAAkDRAk1iAQwAAgDAAAIA0AACQN0CTWIA3AACQSEAAkDBAAJA0QJNYgEgAAIAwAACANAAAkDdAk1iANwAAkExAAJAwQACQNECTWIBMAACAMAAAgDQAAJA3QJNYgDcAAJBPQACQL0AAkDJApzCATwAAkFNAk1iAUwAAkE9Ak1iALwAAgDIAAIBPAACQSkCTWIBKAACQR0CTWIBHAACQSEAAkDBApzCAMAAAkCtApzCASAAAgCsAAJAkQKcwgCQAAJBDQACQR0AAkEpAAJBPQACQK0AAkCtApzCAKwAAgCsAAJA3QACQO0CTWIA3AACAOwAAkDVAAJA3QJNYgEMAAIBHAACASgAAgE8AAIA1AACANwAAkDRAAJA2QJNYgDQAAIA2AACQMkAAkDRAk1iAMgAAgDQAzmD/LwA=\");\n",
              "            });\n",
              "        }\n",
              "        if (typeof require === 'undefined') {\n",
              "            setTimeout(midiPlayerDiv79736_play, 2000);\n",
              "        } else {\n",
              "            midiPlayerDiv79736_play();\n",
              "        }\n",
              "        </script>"
            ]
          },
          "metadata": {}
        }
      ]
    },
    {
      "cell_type": "markdown",
      "source": [
        "## Mozarts Würfelspiel\n",
        "Mozarts Würfelspiel ist allerdings noch ein bisschen komplexer. Zum Einen nutzt er zwei Würfel, zum anderen werden hier die Takte nicht direkt nach den Augenzahlen ausgewählt, sondern aus einer Tabelle. Somit ergibt ein Würfelwurf je nachdem wann er fällt, ein anderes Ergebnis. Die Tabelle von Mozart kannst du dir mit dem folgenden Codeblock anzeigen lassen."
      ],
      "metadata": {
        "id": "A1v5zlMMC34D"
      }
    },
    {
      "cell_type": "code",
      "source": [
        "mozart_table = pd.read_csv('mozart_table.csv', index_col=0)\n",
        "mozart_table.columns = mozart_table.columns.astype(int)\n",
        "display(mozart_table)"
      ],
      "metadata": {
        "colab": {
          "base_uri": "https://localhost:8080/",
          "height": 394
        },
        "id": "nLHMqIH89PKf",
        "outputId": "0ee361ce-8ff8-4bd5-e45a-4a35a3aa8f83"
      },
      "execution_count": 93,
      "outputs": [
        {
          "output_type": "display_data",
          "data": {
            "text/plain": [
              "     1    2    3    4    5    6    7    8    9    10   11   12   13   14   15  \\\n",
              "2    96   22  141   41  105  122   11   90   70  121   26    9  112   49  109   \n",
              "3    32    6  128   69  146   46  134   81  117   39  126   56  174   18  116   \n",
              "4    69   95  158   19  159   55  110   24   66  139   15  132   73   58  145   \n",
              "5    40   17  113   85  161    2  159  100   90  176    7   34   67  160   52   \n",
              "6   148   74  163   45   80   97   36  107   25  143   64  125   76  136    1   \n",
              "7   104  157   27  167  154   68  118   91  138   71  150   29  101  162   23   \n",
              "8   152   60  171   53   99  133   21  127   16  155   57  175   43  168   89   \n",
              "9   119   84  114   50  140   86  169   94  120   88   48  166   51  115   72   \n",
              "10   98  142   42  156   75  129   62  123   65   77   19   82  137   38  149   \n",
              "11    3   87  165   61  135   47  147   33  102    4   31  164  144   59  173   \n",
              "12   54  130   10  103   28   37  106    5   35   20  108   92   12  124   44   \n",
              "\n",
              "     16  \n",
              "2    14  \n",
              "3    83  \n",
              "4    79  \n",
              "5   170  \n",
              "6    93  \n",
              "7   151  \n",
              "8   172  \n",
              "9   111  \n",
              "10    8  \n",
              "11   78  \n",
              "12  131  "
            ],
            "text/html": [
              "\n",
              "  <div id=\"df-9b47b5c2-b899-45c1-8942-0b769d976d29\" class=\"colab-df-container\">\n",
              "    <div>\n",
              "<style scoped>\n",
              "    .dataframe tbody tr th:only-of-type {\n",
              "        vertical-align: middle;\n",
              "    }\n",
              "\n",
              "    .dataframe tbody tr th {\n",
              "        vertical-align: top;\n",
              "    }\n",
              "\n",
              "    .dataframe thead th {\n",
              "        text-align: right;\n",
              "    }\n",
              "</style>\n",
              "<table border=\"1\" class=\"dataframe\">\n",
              "  <thead>\n",
              "    <tr style=\"text-align: right;\">\n",
              "      <th></th>\n",
              "      <th>1</th>\n",
              "      <th>2</th>\n",
              "      <th>3</th>\n",
              "      <th>4</th>\n",
              "      <th>5</th>\n",
              "      <th>6</th>\n",
              "      <th>7</th>\n",
              "      <th>8</th>\n",
              "      <th>9</th>\n",
              "      <th>10</th>\n",
              "      <th>11</th>\n",
              "      <th>12</th>\n",
              "      <th>13</th>\n",
              "      <th>14</th>\n",
              "      <th>15</th>\n",
              "      <th>16</th>\n",
              "    </tr>\n",
              "  </thead>\n",
              "  <tbody>\n",
              "    <tr>\n",
              "      <th>2</th>\n",
              "      <td>96</td>\n",
              "      <td>22</td>\n",
              "      <td>141</td>\n",
              "      <td>41</td>\n",
              "      <td>105</td>\n",
              "      <td>122</td>\n",
              "      <td>11</td>\n",
              "      <td>90</td>\n",
              "      <td>70</td>\n",
              "      <td>121</td>\n",
              "      <td>26</td>\n",
              "      <td>9</td>\n",
              "      <td>112</td>\n",
              "      <td>49</td>\n",
              "      <td>109</td>\n",
              "      <td>14</td>\n",
              "    </tr>\n",
              "    <tr>\n",
              "      <th>3</th>\n",
              "      <td>32</td>\n",
              "      <td>6</td>\n",
              "      <td>128</td>\n",
              "      <td>69</td>\n",
              "      <td>146</td>\n",
              "      <td>46</td>\n",
              "      <td>134</td>\n",
              "      <td>81</td>\n",
              "      <td>117</td>\n",
              "      <td>39</td>\n",
              "      <td>126</td>\n",
              "      <td>56</td>\n",
              "      <td>174</td>\n",
              "      <td>18</td>\n",
              "      <td>116</td>\n",
              "      <td>83</td>\n",
              "    </tr>\n",
              "    <tr>\n",
              "      <th>4</th>\n",
              "      <td>69</td>\n",
              "      <td>95</td>\n",
              "      <td>158</td>\n",
              "      <td>19</td>\n",
              "      <td>159</td>\n",
              "      <td>55</td>\n",
              "      <td>110</td>\n",
              "      <td>24</td>\n",
              "      <td>66</td>\n",
              "      <td>139</td>\n",
              "      <td>15</td>\n",
              "      <td>132</td>\n",
              "      <td>73</td>\n",
              "      <td>58</td>\n",
              "      <td>145</td>\n",
              "      <td>79</td>\n",
              "    </tr>\n",
              "    <tr>\n",
              "      <th>5</th>\n",
              "      <td>40</td>\n",
              "      <td>17</td>\n",
              "      <td>113</td>\n",
              "      <td>85</td>\n",
              "      <td>161</td>\n",
              "      <td>2</td>\n",
              "      <td>159</td>\n",
              "      <td>100</td>\n",
              "      <td>90</td>\n",
              "      <td>176</td>\n",
              "      <td>7</td>\n",
              "      <td>34</td>\n",
              "      <td>67</td>\n",
              "      <td>160</td>\n",
              "      <td>52</td>\n",
              "      <td>170</td>\n",
              "    </tr>\n",
              "    <tr>\n",
              "      <th>6</th>\n",
              "      <td>148</td>\n",
              "      <td>74</td>\n",
              "      <td>163</td>\n",
              "      <td>45</td>\n",
              "      <td>80</td>\n",
              "      <td>97</td>\n",
              "      <td>36</td>\n",
              "      <td>107</td>\n",
              "      <td>25</td>\n",
              "      <td>143</td>\n",
              "      <td>64</td>\n",
              "      <td>125</td>\n",
              "      <td>76</td>\n",
              "      <td>136</td>\n",
              "      <td>1</td>\n",
              "      <td>93</td>\n",
              "    </tr>\n",
              "    <tr>\n",
              "      <th>7</th>\n",
              "      <td>104</td>\n",
              "      <td>157</td>\n",
              "      <td>27</td>\n",
              "      <td>167</td>\n",
              "      <td>154</td>\n",
              "      <td>68</td>\n",
              "      <td>118</td>\n",
              "      <td>91</td>\n",
              "      <td>138</td>\n",
              "      <td>71</td>\n",
              "      <td>150</td>\n",
              "      <td>29</td>\n",
              "      <td>101</td>\n",
              "      <td>162</td>\n",
              "      <td>23</td>\n",
              "      <td>151</td>\n",
              "    </tr>\n",
              "    <tr>\n",
              "      <th>8</th>\n",
              "      <td>152</td>\n",
              "      <td>60</td>\n",
              "      <td>171</td>\n",
              "      <td>53</td>\n",
              "      <td>99</td>\n",
              "      <td>133</td>\n",
              "      <td>21</td>\n",
              "      <td>127</td>\n",
              "      <td>16</td>\n",
              "      <td>155</td>\n",
              "      <td>57</td>\n",
              "      <td>175</td>\n",
              "      <td>43</td>\n",
              "      <td>168</td>\n",
              "      <td>89</td>\n",
              "      <td>172</td>\n",
              "    </tr>\n",
              "    <tr>\n",
              "      <th>9</th>\n",
              "      <td>119</td>\n",
              "      <td>84</td>\n",
              "      <td>114</td>\n",
              "      <td>50</td>\n",
              "      <td>140</td>\n",
              "      <td>86</td>\n",
              "      <td>169</td>\n",
              "      <td>94</td>\n",
              "      <td>120</td>\n",
              "      <td>88</td>\n",
              "      <td>48</td>\n",
              "      <td>166</td>\n",
              "      <td>51</td>\n",
              "      <td>115</td>\n",
              "      <td>72</td>\n",
              "      <td>111</td>\n",
              "    </tr>\n",
              "    <tr>\n",
              "      <th>10</th>\n",
              "      <td>98</td>\n",
              "      <td>142</td>\n",
              "      <td>42</td>\n",
              "      <td>156</td>\n",
              "      <td>75</td>\n",
              "      <td>129</td>\n",
              "      <td>62</td>\n",
              "      <td>123</td>\n",
              "      <td>65</td>\n",
              "      <td>77</td>\n",
              "      <td>19</td>\n",
              "      <td>82</td>\n",
              "      <td>137</td>\n",
              "      <td>38</td>\n",
              "      <td>149</td>\n",
              "      <td>8</td>\n",
              "    </tr>\n",
              "    <tr>\n",
              "      <th>11</th>\n",
              "      <td>3</td>\n",
              "      <td>87</td>\n",
              "      <td>165</td>\n",
              "      <td>61</td>\n",
              "      <td>135</td>\n",
              "      <td>47</td>\n",
              "      <td>147</td>\n",
              "      <td>33</td>\n",
              "      <td>102</td>\n",
              "      <td>4</td>\n",
              "      <td>31</td>\n",
              "      <td>164</td>\n",
              "      <td>144</td>\n",
              "      <td>59</td>\n",
              "      <td>173</td>\n",
              "      <td>78</td>\n",
              "    </tr>\n",
              "    <tr>\n",
              "      <th>12</th>\n",
              "      <td>54</td>\n",
              "      <td>130</td>\n",
              "      <td>10</td>\n",
              "      <td>103</td>\n",
              "      <td>28</td>\n",
              "      <td>37</td>\n",
              "      <td>106</td>\n",
              "      <td>5</td>\n",
              "      <td>35</td>\n",
              "      <td>20</td>\n",
              "      <td>108</td>\n",
              "      <td>92</td>\n",
              "      <td>12</td>\n",
              "      <td>124</td>\n",
              "      <td>44</td>\n",
              "      <td>131</td>\n",
              "    </tr>\n",
              "  </tbody>\n",
              "</table>\n",
              "</div>\n",
              "    <div class=\"colab-df-buttons\">\n",
              "\n",
              "  <div class=\"colab-df-container\">\n",
              "    <button class=\"colab-df-convert\" onclick=\"convertToInteractive('df-9b47b5c2-b899-45c1-8942-0b769d976d29')\"\n",
              "            title=\"Convert this dataframe to an interactive table.\"\n",
              "            style=\"display:none;\">\n",
              "\n",
              "  <svg xmlns=\"http://www.w3.org/2000/svg\" height=\"24px\" viewBox=\"0 -960 960 960\">\n",
              "    <path d=\"M120-120v-720h720v720H120Zm60-500h600v-160H180v160Zm220 220h160v-160H400v160Zm0 220h160v-160H400v160ZM180-400h160v-160H180v160Zm440 0h160v-160H620v160ZM180-180h160v-160H180v160Zm440 0h160v-160H620v160Z\"/>\n",
              "  </svg>\n",
              "    </button>\n",
              "\n",
              "  <style>\n",
              "    .colab-df-container {\n",
              "      display:flex;\n",
              "      gap: 12px;\n",
              "    }\n",
              "\n",
              "    .colab-df-convert {\n",
              "      background-color: #E8F0FE;\n",
              "      border: none;\n",
              "      border-radius: 50%;\n",
              "      cursor: pointer;\n",
              "      display: none;\n",
              "      fill: #1967D2;\n",
              "      height: 32px;\n",
              "      padding: 0 0 0 0;\n",
              "      width: 32px;\n",
              "    }\n",
              "\n",
              "    .colab-df-convert:hover {\n",
              "      background-color: #E2EBFA;\n",
              "      box-shadow: 0px 1px 2px rgba(60, 64, 67, 0.3), 0px 1px 3px 1px rgba(60, 64, 67, 0.15);\n",
              "      fill: #174EA6;\n",
              "    }\n",
              "\n",
              "    .colab-df-buttons div {\n",
              "      margin-bottom: 4px;\n",
              "    }\n",
              "\n",
              "    [theme=dark] .colab-df-convert {\n",
              "      background-color: #3B4455;\n",
              "      fill: #D2E3FC;\n",
              "    }\n",
              "\n",
              "    [theme=dark] .colab-df-convert:hover {\n",
              "      background-color: #434B5C;\n",
              "      box-shadow: 0px 1px 3px 1px rgba(0, 0, 0, 0.15);\n",
              "      filter: drop-shadow(0px 1px 2px rgba(0, 0, 0, 0.3));\n",
              "      fill: #FFFFFF;\n",
              "    }\n",
              "  </style>\n",
              "\n",
              "    <script>\n",
              "      const buttonEl =\n",
              "        document.querySelector('#df-9b47b5c2-b899-45c1-8942-0b769d976d29 button.colab-df-convert');\n",
              "      buttonEl.style.display =\n",
              "        google.colab.kernel.accessAllowed ? 'block' : 'none';\n",
              "\n",
              "      async function convertToInteractive(key) {\n",
              "        const element = document.querySelector('#df-9b47b5c2-b899-45c1-8942-0b769d976d29');\n",
              "        const dataTable =\n",
              "          await google.colab.kernel.invokeFunction('convertToInteractive',\n",
              "                                                    [key], {});\n",
              "        if (!dataTable) return;\n",
              "\n",
              "        const docLinkHtml = 'Like what you see? Visit the ' +\n",
              "          '<a target=\"_blank\" href=https://colab.research.google.com/notebooks/data_table.ipynb>data table notebook</a>'\n",
              "          + ' to learn more about interactive tables.';\n",
              "        element.innerHTML = '';\n",
              "        dataTable['output_type'] = 'display_data';\n",
              "        await google.colab.output.renderOutput(dataTable, element);\n",
              "        const docLink = document.createElement('div');\n",
              "        docLink.innerHTML = docLinkHtml;\n",
              "        element.appendChild(docLink);\n",
              "      }\n",
              "    </script>\n",
              "  </div>\n",
              "\n",
              "\n",
              "<div id=\"df-88ed1e2a-2fb7-4ec2-ad6e-382af7d4e372\">\n",
              "  <button class=\"colab-df-quickchart\" onclick=\"quickchart('df-88ed1e2a-2fb7-4ec2-ad6e-382af7d4e372')\"\n",
              "            title=\"Suggest charts\"\n",
              "            style=\"display:none;\">\n",
              "\n",
              "<svg xmlns=\"http://www.w3.org/2000/svg\" height=\"24px\"viewBox=\"0 0 24 24\"\n",
              "     width=\"24px\">\n",
              "    <g>\n",
              "        <path d=\"M19 3H5c-1.1 0-2 .9-2 2v14c0 1.1.9 2 2 2h14c1.1 0 2-.9 2-2V5c0-1.1-.9-2-2-2zM9 17H7v-7h2v7zm4 0h-2V7h2v10zm4 0h-2v-4h2v4z\"/>\n",
              "    </g>\n",
              "</svg>\n",
              "  </button>\n",
              "\n",
              "<style>\n",
              "  .colab-df-quickchart {\n",
              "      --bg-color: #E8F0FE;\n",
              "      --fill-color: #1967D2;\n",
              "      --hover-bg-color: #E2EBFA;\n",
              "      --hover-fill-color: #174EA6;\n",
              "      --disabled-fill-color: #AAA;\n",
              "      --disabled-bg-color: #DDD;\n",
              "  }\n",
              "\n",
              "  [theme=dark] .colab-df-quickchart {\n",
              "      --bg-color: #3B4455;\n",
              "      --fill-color: #D2E3FC;\n",
              "      --hover-bg-color: #434B5C;\n",
              "      --hover-fill-color: #FFFFFF;\n",
              "      --disabled-bg-color: #3B4455;\n",
              "      --disabled-fill-color: #666;\n",
              "  }\n",
              "\n",
              "  .colab-df-quickchart {\n",
              "    background-color: var(--bg-color);\n",
              "    border: none;\n",
              "    border-radius: 50%;\n",
              "    cursor: pointer;\n",
              "    display: none;\n",
              "    fill: var(--fill-color);\n",
              "    height: 32px;\n",
              "    padding: 0;\n",
              "    width: 32px;\n",
              "  }\n",
              "\n",
              "  .colab-df-quickchart:hover {\n",
              "    background-color: var(--hover-bg-color);\n",
              "    box-shadow: 0 1px 2px rgba(60, 64, 67, 0.3), 0 1px 3px 1px rgba(60, 64, 67, 0.15);\n",
              "    fill: var(--button-hover-fill-color);\n",
              "  }\n",
              "\n",
              "  .colab-df-quickchart-complete:disabled,\n",
              "  .colab-df-quickchart-complete:disabled:hover {\n",
              "    background-color: var(--disabled-bg-color);\n",
              "    fill: var(--disabled-fill-color);\n",
              "    box-shadow: none;\n",
              "  }\n",
              "\n",
              "  .colab-df-spinner {\n",
              "    border: 2px solid var(--fill-color);\n",
              "    border-color: transparent;\n",
              "    border-bottom-color: var(--fill-color);\n",
              "    animation:\n",
              "      spin 1s steps(1) infinite;\n",
              "  }\n",
              "\n",
              "  @keyframes spin {\n",
              "    0% {\n",
              "      border-color: transparent;\n",
              "      border-bottom-color: var(--fill-color);\n",
              "      border-left-color: var(--fill-color);\n",
              "    }\n",
              "    20% {\n",
              "      border-color: transparent;\n",
              "      border-left-color: var(--fill-color);\n",
              "      border-top-color: var(--fill-color);\n",
              "    }\n",
              "    30% {\n",
              "      border-color: transparent;\n",
              "      border-left-color: var(--fill-color);\n",
              "      border-top-color: var(--fill-color);\n",
              "      border-right-color: var(--fill-color);\n",
              "    }\n",
              "    40% {\n",
              "      border-color: transparent;\n",
              "      border-right-color: var(--fill-color);\n",
              "      border-top-color: var(--fill-color);\n",
              "    }\n",
              "    60% {\n",
              "      border-color: transparent;\n",
              "      border-right-color: var(--fill-color);\n",
              "    }\n",
              "    80% {\n",
              "      border-color: transparent;\n",
              "      border-right-color: var(--fill-color);\n",
              "      border-bottom-color: var(--fill-color);\n",
              "    }\n",
              "    90% {\n",
              "      border-color: transparent;\n",
              "      border-bottom-color: var(--fill-color);\n",
              "    }\n",
              "  }\n",
              "</style>\n",
              "\n",
              "  <script>\n",
              "    async function quickchart(key) {\n",
              "      const quickchartButtonEl =\n",
              "        document.querySelector('#' + key + ' button');\n",
              "      quickchartButtonEl.disabled = true;  // To prevent multiple clicks.\n",
              "      quickchartButtonEl.classList.add('colab-df-spinner');\n",
              "      try {\n",
              "        const charts = await google.colab.kernel.invokeFunction(\n",
              "            'suggestCharts', [key], {});\n",
              "      } catch (error) {\n",
              "        console.error('Error during call to suggestCharts:', error);\n",
              "      }\n",
              "      quickchartButtonEl.classList.remove('colab-df-spinner');\n",
              "      quickchartButtonEl.classList.add('colab-df-quickchart-complete');\n",
              "    }\n",
              "    (() => {\n",
              "      let quickchartButtonEl =\n",
              "        document.querySelector('#df-88ed1e2a-2fb7-4ec2-ad6e-382af7d4e372 button');\n",
              "      quickchartButtonEl.style.display =\n",
              "        google.colab.kernel.accessAllowed ? 'block' : 'none';\n",
              "    })();\n",
              "  </script>\n",
              "</div>\n",
              "    </div>\n",
              "  </div>\n"
            ],
            "application/vnd.google.colaboratory.intrinsic+json": {
              "type": "dataframe",
              "variable_name": "mozart_table",
              "summary": "{\n  \"name\": \"mozart_table\",\n  \"rows\": 11,\n  \"fields\": [\n    {\n      \"column\": 1,\n      \"properties\": {\n        \"dtype\": \"number\",\n        \"std\": 47,\n        \"min\": 3,\n        \"max\": 152,\n        \"num_unique_values\": 11,\n        \"samples\": [\n          104,\n          96,\n          3\n        ],\n        \"semantic_type\": \"\",\n        \"description\": \"\"\n      }\n    },\n    {\n      \"column\": 2,\n      \"properties\": {\n        \"dtype\": \"number\",\n        \"std\": 50,\n        \"min\": 6,\n        \"max\": 157,\n        \"num_unique_values\": 11,\n        \"samples\": [\n          157,\n          22,\n          87\n        ],\n        \"semantic_type\": \"\",\n        \"description\": \"\"\n      }\n    },\n    {\n      \"column\": 3,\n      \"properties\": {\n        \"dtype\": \"number\",\n        \"std\": 58,\n        \"min\": 10,\n        \"max\": 171,\n        \"num_unique_values\": 11,\n        \"samples\": [\n          27,\n          141,\n          165\n        ],\n        \"semantic_type\": \"\",\n        \"description\": \"\"\n      }\n    },\n    {\n      \"column\": 4,\n      \"properties\": {\n        \"dtype\": \"number\",\n        \"std\": 47,\n        \"min\": 19,\n        \"max\": 167,\n        \"num_unique_values\": 11,\n        \"samples\": [\n          167,\n          41,\n          61\n        ],\n        \"semantic_type\": \"\",\n        \"description\": \"\"\n      }\n    },\n    {\n      \"column\": 5,\n      \"properties\": {\n        \"dtype\": \"number\",\n        \"std\": 42,\n        \"min\": 28,\n        \"max\": 161,\n        \"num_unique_values\": 11,\n        \"samples\": [\n          154,\n          105,\n          135\n        ],\n        \"semantic_type\": \"\",\n        \"description\": \"\"\n      }\n    },\n    {\n      \"column\": 6,\n      \"properties\": {\n        \"dtype\": \"number\",\n        \"std\": 42,\n        \"min\": 2,\n        \"max\": 133,\n        \"num_unique_values\": 11,\n        \"samples\": [\n          68,\n          122,\n          47\n        ],\n        \"semantic_type\": \"\",\n        \"description\": \"\"\n      }\n    },\n    {\n      \"column\": 7,\n      \"properties\": {\n        \"dtype\": \"number\",\n        \"std\": 56,\n        \"min\": 11,\n        \"max\": 169,\n        \"num_unique_values\": 11,\n        \"samples\": [\n          118,\n          11,\n          147\n        ],\n        \"semantic_type\": \"\",\n        \"description\": \"\"\n      }\n    },\n    {\n      \"column\": 8,\n      \"properties\": {\n        \"dtype\": \"number\",\n        \"std\": 40,\n        \"min\": 5,\n        \"max\": 127,\n        \"num_unique_values\": 11,\n        \"samples\": [\n          91,\n          90,\n          33\n        ],\n        \"semantic_type\": \"\",\n        \"description\": \"\"\n      }\n    },\n    {\n      \"column\": 9,\n      \"properties\": {\n        \"dtype\": \"number\",\n        \"std\": 40,\n        \"min\": 16,\n        \"max\": 138,\n        \"num_unique_values\": 11,\n        \"samples\": [\n          138,\n          70,\n          102\n        ],\n        \"semantic_type\": \"\",\n        \"description\": \"\"\n      }\n    },\n    {\n      \"column\": 10,\n      \"properties\": {\n        \"dtype\": \"number\",\n        \"std\": 57,\n        \"min\": 4,\n        \"max\": 176,\n        \"num_unique_values\": 11,\n        \"samples\": [\n          71,\n          121,\n          4\n        ],\n        \"semantic_type\": \"\",\n        \"description\": \"\"\n      }\n    },\n    {\n      \"column\": 11,\n      \"properties\": {\n        \"dtype\": \"number\",\n        \"std\": 48,\n        \"min\": 7,\n        \"max\": 150,\n        \"num_unique_values\": 11,\n        \"samples\": [\n          150,\n          26,\n          31\n        ],\n        \"semantic_type\": \"\",\n        \"description\": \"\"\n      }\n    },\n    {\n      \"column\": 12,\n      \"properties\": {\n        \"dtype\": \"number\",\n        \"std\": 59,\n        \"min\": 9,\n        \"max\": 175,\n        \"num_unique_values\": 11,\n        \"samples\": [\n          29,\n          9,\n          164\n        ],\n        \"semantic_type\": \"\",\n        \"description\": \"\"\n      }\n    },\n    {\n      \"column\": 13,\n      \"properties\": {\n        \"dtype\": \"number\",\n        \"std\": 48,\n        \"min\": 12,\n        \"max\": 174,\n        \"num_unique_values\": 11,\n        \"samples\": [\n          101,\n          112,\n          144\n        ],\n        \"semantic_type\": \"\",\n        \"description\": \"\"\n      }\n    },\n    {\n      \"column\": 14,\n      \"properties\": {\n        \"dtype\": \"number\",\n        \"std\": 55,\n        \"min\": 18,\n        \"max\": 168,\n        \"num_unique_values\": 11,\n        \"samples\": [\n          162,\n          49,\n          59\n        ],\n        \"semantic_type\": \"\",\n        \"description\": \"\"\n      }\n    },\n    {\n      \"column\": 15,\n      \"properties\": {\n        \"dtype\": \"number\",\n        \"std\": 55,\n        \"min\": 1,\n        \"max\": 173,\n        \"num_unique_values\": 11,\n        \"samples\": [\n          23,\n          109,\n          173\n        ],\n        \"semantic_type\": \"\",\n        \"description\": \"\"\n      }\n    },\n    {\n      \"column\": 16,\n      \"properties\": {\n        \"dtype\": \"number\",\n        \"std\": 55,\n        \"min\": 8,\n        \"max\": 172,\n        \"num_unique_values\": 11,\n        \"samples\": [\n          151,\n          14,\n          78\n        ],\n        \"semantic_type\": \"\",\n        \"description\": \"\"\n      }\n    }\n  ]\n}"
            }
          },
          "metadata": {}
        }
      ]
    },
    {
      "cell_type": "markdown",
      "source": [
        "Die Tabelle ist wie folgt zu verstehen:\n",
        "\n",
        "Wenn im 1. Takt eine 2 gewürfelt wird, wird Takt 96 ausgewählt. Wird im 2. Takt dann wieder eine 2 gewürfelt, würde allerdings Takt 22 ausgewählt werden.\n",
        "\n",
        "Nun benötigen wir also zusätzlich zu den oben erstellten Funktionen, eine weitere Funktion, die die Auswahl aus der Tabelle übernimmt. Dafür solltest du du dich mit pandas Dataframes vertraut machen und herausfinden, wie du den richtigen Wert aus der Tabelle auswählst: https://pandas.pydata.org/docs/reference/api/pandas.DataFrame.loc.html#pandas.DataFrame.loc"
      ],
      "metadata": {
        "id": "CkEDtxHgENJX"
      }
    },
    {
      "cell_type": "code",
      "source": [
        "def get_measure_number_with_table(roll, roll_number, table):\n",
        "    \"\"\"\n",
        "    Diese Funktion erhält eine Würfelzahl, die Angabe der wievielte Wurf diese Zahl betrifft und eine Tablle aus der ausgewählt werden soll und gibt eine Kopie des angegebenen Taktes zurück.\n",
        "    \"\"\"\n",
        "    measure_number = table.loc[roll, roll_number]\n",
        "    return measure_number"
      ],
      "metadata": {
        "id": "sIQgKCGREhPe"
      },
      "execution_count": 94,
      "outputs": []
    },
    {
      "cell_type": "markdown",
      "source": [
        "Der Aufruf dieser Funktion mit `get_measure_number_with_table(2, 1, mozart_table)` sollte also 96 ergeben. Hier wieder ein Test."
      ],
      "metadata": {
        "id": "WGB233x4G8cu"
      }
    },
    {
      "cell_type": "code",
      "source": [
        "first_test_value = get_measure_number_with_table(2, 1, mozart_table)\n",
        "assert first_test_value == 96, f\"get_measure_number_with_table() funktioniert scheinbar noch nicht richtig. Erwartet wurde 96, die Funktion gab aber {first_test_value}\"\n",
        "second_test_value = get_measure_number_with_table(10, 3, mozart_table)\n",
        "assert second_test_value == 42, f\"get_measure_number_with_table() funktioniert scheinbar noch nicht richtig. Erwartet wurde 42, die Funktion gab aber {second_test_value}\"\n",
        "print(\"Der Test war erfolgreich.\")"
      ],
      "metadata": {
        "colab": {
          "base_uri": "https://localhost:8080/"
        },
        "id": "5MMgvGCGHIG6",
        "outputId": "1aef457c-1e90-466f-a083-d3f7bbebf471"
      },
      "execution_count": 95,
      "outputs": [
        {
          "output_type": "stream",
          "name": "stdout",
          "text": [
            "Der Test war erfolgreich.\n"
          ]
        }
      ]
    },
    {
      "cell_type": "markdown",
      "source": [
        "Da wir die Würfel mehrmals werfen werden, benötigen wir noch eine Funktion, die uns eine ganze Liste an Würfen in Taktzahlen übersetzt.\n",
        "Hierbei können wir unsere Funktion `get_measure_number_with_table()` wieder verwenden. Allerdings benötigen wir für den Aufruf dieser Funktion auch die Angabe, um den wievielten Wurf es sich dabei handelt. Mache dich dafür mit der `enumerate()`-Funktion vertraut (https://docs.python.org/3/library/functions.html#enumerate)\n",
        "\n",
        "Implementiere nun die Funktion `translate_rolls()`:"
      ],
      "metadata": {
        "id": "PXr5zwEnFXQ9"
      }
    },
    {
      "cell_type": "code",
      "source": [
        "def translate_rolls(rolls, table):\n",
        "    \"\"\"\n",
        "    Diese Funktion übersetzt eine Liste an Würfel-Ergebnissen in Taktzahlen einer Tabelle. Sie erhält die Würfe als Liste und die Tabelle als pandas DataFrame und gibt die übersetzten Taktzahlen wieder als Liste zurück.\n",
        "    \"\"\"\n",
        "    assert len(rolls) <= len(table.columns), f\"Die Tabelle ist zu kurz für die Anzahl der Würfel-Würfe.\"\n",
        "    measures = []\n",
        "    for i, roll in enumerate(rolls):\n",
        "      measures.append(get_measure_number_with_table(roll, i+1, mozart_table))\n",
        "    return measures"
      ],
      "metadata": {
        "id": "MRQk9py4FtOF"
      },
      "execution_count": 96,
      "outputs": []
    },
    {
      "cell_type": "markdown",
      "source": [
        "Auch hierfür ein Test:"
      ],
      "metadata": {
        "id": "29eUZ8HCHGm6"
      }
    },
    {
      "cell_type": "code",
      "source": [
        "test_rolls = [11, 3, 10, 7]\n",
        "test_measures = [3, 6, 42, 167]\n",
        "translated_measures = translate_rolls(test_rolls, mozart_table)\n",
        "assert test_measures == translated_measures, f\"Die Funktion hat die Takte leider falsch übersetzt. Erwartet waren {test_measures}, erhalten wurde aber {translated_measures}\"\n",
        "print(\"Der Test war erfolgreich.\")"
      ],
      "metadata": {
        "colab": {
          "base_uri": "https://localhost:8080/"
        },
        "id": "10hX-x4mHL50",
        "outputId": "1ef3f07e-262f-4e27-ee7e-1b68170d5f9a"
      },
      "execution_count": 97,
      "outputs": [
        {
          "output_type": "stream",
          "name": "stdout",
          "text": [
            "Der Test war erfolgreich.\n"
          ]
        }
      ]
    },
    {
      "cell_type": "markdown",
      "source": [
        "Mit `get_measure()` können wir dann wie oben auch, die jeweiligen Takte auswählen und eine neue MIDI-Datei erstellen. Letztlich fehlt nur noch eine Funktion, die das Würfeln mit zwei Würfeln simuliert. Ergänze die folgende Funktion um jeweils mit mit mehreren Würfeln zu würfeln. Dabei schreiben wir die Funktion so, dass sie zusätzlich zu den Paramtern von `wuerfelspiel()`, auch eine beliebige Anzahl an Würfeln unterstützt.\n",
        "\n",
        "Tipp: Hier können wir die Funktion `roll_dice()` wieder verwenden."
      ],
      "metadata": {
        "id": "Cj5KG0eNGL1B"
      }
    },
    {
      "cell_type": "code",
      "source": [
        "def roll_multiple_dice(number_of_dice, number_of_rolls, number_of_faces=6):\n",
        "    \"\"\"\n",
        "    Mit dieser Funktion kann das Werfen mehrerer Würfel simuliert werden. Dafür erhält die Funktion als Input die Anzahl der Würfel, die Anzahl der Würfe und optional die Anzahl der Würfelseiten.\n",
        "    Als Ergebnis liefert die Funktion eine Liste aller Würfe, wobei pro Wurf die Summe aller Würfel gespeichert wird.\n",
        "    Lösung mit List Comprehension.\n",
        "    \"\"\"\n",
        "    return [sum([roll_dice(number_of_faces=number_of_faces) for _ in range(number_of_dice)]) for _ in range(number_of_rolls)]\n",
        "\n",
        "\n",
        "def roll_multiple_dice(number_of_dice, number_of_rolls, number_of_faces=6):\n",
        "    \"\"\"\n",
        "    Mit dieser Funktion kann das Werfen mehrerer Würfel simuliert werden. Dafür erhält die Funktion als Input die Anzahl der Würfel, die Anzahl der Würfe und optional die Anzahl der Würfelseiten.\n",
        "    Als Ergebnis liefert die Funktion eine Liste aller Würfe, wobei pro Wurf die Summe aller Würfel gespeichert wird.\n",
        "    Lösung mit For-Loop.\n",
        "    \"\"\"\n",
        "    rolls = []\n",
        "    for i in range(number_of_rolls):\n",
        "      sum = 0\n",
        "      for j in range(number_of_dice):\n",
        "        roll = roll_dice(number_of_faces=number_of_faces)\n",
        "        sum += roll\n",
        "      rolls.append(sum)\n",
        "    return rolls"
      ],
      "metadata": {
        "id": "ISEGquNRGKfT"
      },
      "execution_count": 98,
      "outputs": []
    },
    {
      "cell_type": "markdown",
      "source": [
        "Und auch hier wieder ein Test:"
      ],
      "metadata": {
        "id": "p865WEFkDkBj"
      }
    },
    {
      "cell_type": "code",
      "source": [
        "rolls = roll_multiple_dice(2,1000)\n",
        "assert type(rolls) is list\n",
        "possibilities = set(rolls)\n",
        "possible_throws = {2,3,4,5,6,7,8,9,10,11,12}\n",
        "assert len(possibilities - possible_throws) == 0, f\"Dein Würfel konnte mehr Zahlen als erwartet würfeln {possibilities.difference(possible_throws)}\"\n",
        "assert possibilities == possible_throws, f\"Dein Würfel konnte folgende Zahlen nicht würfeln: {possible_throws.difference(possibilities)}.\"\n",
        "print(\"Der Test war erfolgreich.\")"
      ],
      "metadata": {
        "colab": {
          "base_uri": "https://localhost:8080/"
        },
        "id": "9JxjMZW_Ag3n",
        "outputId": "22cb889d-5697-4221-aa51-a7c6303d132a"
      },
      "execution_count": 99,
      "outputs": [
        {
          "output_type": "stream",
          "name": "stdout",
          "text": [
            "Der Test war erfolgreich.\n"
          ]
        }
      ]
    },
    {
      "cell_type": "markdown",
      "source": [
        "Nun kannst du mit dieser Funktion wieder\n",
        "1. mehrere Würfel-Würfe simulieren,\n",
        "2. diese dann mit Mozarts Tabelle übersetzen\n",
        "3. und eine MIDI-Datei der ausgewürfelten Takte erstellen"
      ],
      "metadata": {
        "id": "tqRjcpDSIuW6"
      }
    },
    {
      "cell_type": "code",
      "source": [
        "# Simulate multiple dice rolls with two dice\n",
        "mozarts_wuerfelspiel_selection = roll_multiple_dice(2, 16)\n",
        "print(f\"Es wurde {mozarts_wuerfelspiel_selection} gewürfelt.\")\n",
        "# Translate measure numbers with table\n",
        "translated_selection = translate_rolls(mozarts_wuerfelspiel_selection, mozart_table)\n",
        "print(f\"Es wurden die folgenden Takte ausgewählt: {translated_selection}\")\n",
        "# Get the music21 Measures according to the dice rolls\n",
        "selected_measures = select_measures(mozart_score, translated_selection)\n",
        "# Create a new Score from the selected measures\n",
        "new_score = create_score(selected_measures, time_signature='3/8')\n",
        "# Listen to the MIDI file\n",
        "new_score.show('midi')\n",
        "# Save the MIDI file\n",
        "save_midi(new_score, 'mozarts_wuerfelspiel.mid')"
      ],
      "metadata": {
        "colab": {
          "base_uri": "https://localhost:8080/",
          "height": 169
        },
        "id": "vTvtdKhJIsQ4",
        "outputId": "f9fa9e75-1d03-4d83-8ff4-0016d054a2f2"
      },
      "execution_count": 100,
      "outputs": [
        {
          "output_type": "stream",
          "name": "stdout",
          "text": [
            "Es wurde [4, 7, 5, 7, 12, 11, 3, 10, 5, 3, 4, 5, 11, 9, 8, 5] gewürfelt.\n",
            "Es wurden die folgenden Takte ausgewählt: [69, 157, 113, 167, 28, 47, 134, 123, 90, 39, 15, 34, 144, 115, 89, 170]\n"
          ]
        },
        {
          "output_type": "display_data",
          "data": {
            "text/plain": [
              "<IPython.core.display.HTML object>"
            ],
            "text/html": [
              "\n",
              "        <div id=\"midiPlayerDiv82371\"></div>\n",
              "        <link rel=\"stylesheet\" href=\"https://cuthbertLab.github.io/music21j/css/m21.css\">\n",
              "        \n",
              "        <script\n",
              "        src=\"https://cdnjs.cloudflare.com/ajax/libs/require.js/2.3.6/require.min.js\"\n",
              "        ></script>\n",
              "    \n",
              "        <script>\n",
              "        function midiPlayerDiv82371_play() {\n",
              "            const rq = require.config({\n",
              "                paths: {\n",
              "                    'music21': 'https://cuthbertLab.github.io/music21j/releases/music21.debug',\n",
              "                }\n",
              "            });\n",
              "            rq(['music21'], function(music21) {\n",
              "                mp = new music21.miditools.MidiPlayer();\n",
              "                mp.addPlayer(\"#midiPlayerDiv82371\");\n",
              "                mp.base64Load(\"data:audio/midi;base64,TVRoZAAAAAYAAQACJ2BNVHJrAAAAFAD/UQMHoSAA/1gEAwMYCM5g/y8ATVRyawAABGMA/wMAAOAAQM5gkE9AAJAwQACQNECnMIBPAACQTECnMIAwAACANAAAgEwAAJBIQKcwgEgAAJBMQACQMECTWIBMAACQSkCTWIBKAACQTECTWIBMAACQT0CTWIAwAACATwAAkFRAk1iAVAAAkE9Ak1iATwAAkE1AAJA3QACQO0CnMIBNAACQSkCnMIA3AACAOwAAgEoAAJBHQKcwgEcAAJBIQACQMEAAkDRApzCASAAAkEhAk1iASAAAkEpAk1iAMAAAgDQAAIBKAACQTECnMIBMAACQTkAAkDBAAJA5QJNYgE4AAJBKQJNYgEoAAJBFQJNYgEUAAJBRQJNYgDAAAIA5AACAUQAAkE5Ak1iATgAAkEpAk1iASgAAkE9AAJAvQACQMkCnMIBPAACQT0CTWIBPAACQSkCTWIAvAACAMgAAgEoAAJBTQKcwgFMAAJBFQACQMECTWJBMQJNYgEUAAIAwAACATAAAkEdAAJBKQACQMkCTWJBFQACQSECTWIBHAACASgAAgDIAAIBFAACASAAAkENAAJBHQACQJkCTWJBCQACQRUCTWIBDAACARwAAgCYAAIBCAACARQAAkENAAJBHQACQSkAAkE9AAJArQACQK0CnMIArAACAKwAAkDdAAJA7QJNYgDcAAIA7AACQNUAAkDdAk1iAQwAAgEcAAIBKAACATwAAgDUAAIA3AACQNEAAkDZAk1iANAAAgDYAAJAyQACQNECTWIAyAACANAAAkE5AAJAwQACQOUCTWIBOAACQUUCTWIBRAACQVkCTWIBWAACQUUCTWIAwAACAOQAAgFEAAJBOQACQMEAAkDlAk1iQUUCTWIBOAACAMAAAgDkAAIBRAACQT0AAkC9Ak1iATwAAgC8AAJAyQJNYgDIAAJBDQACQN0CTWIBDAACANwAAkDJAk1iAMgAAkENAAJAvQJNYgEMAAIAvAACQK0CTWIArAACQTEAAkDBAAJA3QKcwgEwAAJBPQJNYgE8AAJBMQJNYgDAAAIA3AACATAAAkEhAAJAwQACQNECnMIBIAACAMAAAgDQAAJBMQACQN0CTWIBMAACQSECTWIBIAACQSkCTWIBKAACQR0CTWIA3AACARwAAkENApzCAQwAAkE9AAJAwQACQNECTWIBPAACAMAAAgDQAAJA3QJNYgDcAAJBIQACQMEAAkDRAk1iASAAAgDAAAIA0AACQN0CTWIA3AACQTEAAkDBAAJA0QJNYgEwAAIAwAACANAAAkDdAk1iANwAAkEhAAJAwQACQNECTWIBIAACQQ0CTWIBDAACQTECTWIBMAACQSECTWIAwAACANAAAgEgAAJBPQJNYgE8AAJBMQJNYgEwAAJBNQACQNUCTWIBNAACANQAAkExAAJA0QJNYgEwAAIA0AACQSkAAkDJApzCASgAAgDIAAJBPQACQN0CnMIBPAACANwAAkEhAAJAwQKcwgDAAAJArQKcwgEgAAIArAACQJECnMIAkAM5g/y8A\");\n",
              "            });\n",
              "        }\n",
              "        if (typeof require === 'undefined') {\n",
              "            setTimeout(midiPlayerDiv82371_play, 2000);\n",
              "        } else {\n",
              "            midiPlayerDiv82371_play();\n",
              "        }\n",
              "        </script>"
            ]
          },
          "metadata": {}
        }
      ]
    },
    {
      "cell_type": "markdown",
      "source": [
        "Damit haben wir das Ende dieses Tutorials erreicht.\n",
        "Experimentiere mit eigenen Ideen oder MIDIs. Wie könnte man zum Beispiel die Logik der Taktauswahl verändern?"
      ],
      "metadata": {
        "id": "jqSYZ_vvL_cg"
      }
    },
    {
      "cell_type": "markdown",
      "source": [
        "## Eigene MIDI-Dateien hochladen\n",
        "Du kannst auch selbst MIDI-Dateien hochladen und dein eigenes Würfelspiel bauen.\n",
        "\n",
        "Um eine MIDI-Datei zu verarbeiten, muss sie zunächst auf den Server hochgeladen werden. Dafür kannst du den folgenden Code-Block nutzen oder einfach links auf das Ordner-Symbol klicken und die Files auf den Server ziehen.\n",
        "\n",
        "Wähle eine eigene MIDI-Datei aus, mit der du experimentieren möchtest. Dies könntest du zum Beispiel mit [MuseScore](https://musescore.org/de/download) erstellen."
      ],
      "metadata": {
        "id": "vEjHNc84vFjK"
      }
    },
    {
      "cell_type": "code",
      "execution_count": null,
      "metadata": {
        "id": "9PpEgwwYkYGu"
      },
      "outputs": [],
      "source": [
        "uploaded = files.upload()\n",
        "filename = list(uploaded.keys())[0]\n",
        "\n",
        "print()\n",
        "print(f\"Die Datei {filename} wurde erfolgreich hochgeladen und der Name dieser Datei wurde in der Variable filename gespeichert.\")"
      ]
    }
  ]
}