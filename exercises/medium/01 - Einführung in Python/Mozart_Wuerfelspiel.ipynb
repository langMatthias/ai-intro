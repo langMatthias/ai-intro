{
 "cells": [
  {
   "cell_type": "markdown",
   "metadata": {},
   "source": [
    "# Mozart Würfelspiel (Python Übung)\n",
    "Im Rahmen dieses Tutorials lernen wir den Umgang mit der Programmiersprache Python. Mit dieser Programmiersprache wird ein Großteil der KI-Modelle trainiert. \n",
    "\n",
    "Hier lernen wir:\n",
    "- das Laden von MIDI-Dateien in Python mit der music21 Library\n",
    "- das Arbeiten mit Zufall in Programmen\n",
    "- das Verändern und Generieren von Noten mit Programmen"
   ]
  },
  {
   "cell_type": "markdown",
   "metadata": {},
   "source": [
    "## Importe\n",
    "Um Midi-Dateien zu laden und für zufällige Zahlen des Würfelspiels benötigen wir einige Bibliotheken, die wir einfach importieren können."
   ]
  },
  {
   "cell_type": "code",
   "execution_count": 3,
   "metadata": {},
   "outputs": [],
   "source": [
    "import music21\n",
    "import random\n",
    "import copy\n",
    "import pandas as pd"
   ]
  },
  {
   "cell_type": "code",
   "execution_count": 72,
   "metadata": {},
   "outputs": [],
   "source": [
    "filepath = '/Users/matthiaslang/Documents/Vorträge/Künstlerische Intelligenz/ai-intro/exercise/01 - Easy - Mozart Würfelspiel/MOZART-Würfelspiel.mid'"
   ]
  },
  {
   "cell_type": "code",
   "execution_count": 33,
   "metadata": {},
   "outputs": [],
   "source": [
    "def load_midi(filepath):\n",
    "    score = music21.converter.parse(filepath)\n",
    "    return score"
   ]
  },
  {
   "cell_type": "code",
   "execution_count": 34,
   "metadata": {},
   "outputs": [],
   "source": [
    "def get_number_of_measures(score):\n",
    "    return len(score.parts[0].getElementsByClass('Measure'))"
   ]
  },
  {
   "cell_type": "code",
   "execution_count": 70,
   "metadata": {},
   "outputs": [],
   "source": [
    "def get_measure(score, measure_number):\n",
    "    try:\n",
    "      return copy.deepcopy(score.parts[0].getElementsByClass('Measure')[measure_number-1])\n",
    "    except:\n",
    "      print(f\"Takt {measure_number} konnte leider nicht ausgewählt werden, da die gegebene Score nur {get_number_of_measures(score)} Takte enthält.\")\n",
    "      return None"
   ]
  },
  {
   "cell_type": "code",
   "execution_count": 56,
   "metadata": {},
   "outputs": [],
   "source": [
    "def select_measures(score, measure_numbers):\n",
    "    return [get_measure(score, measure_number) for measure_number in measure_numbers]"
   ]
  },
  {
   "cell_type": "code",
   "execution_count": 65,
   "metadata": {},
   "outputs": [],
   "source": [
    "def create_score(measures):\n",
    "    score = music21.stream.Score()\n",
    "    part = music21.stream.Part()\n",
    "    for measure in measures:\n",
    "        part.append(measure)\n",
    "    score.append(part)\n",
    "    return score"
   ]
  },
  {
   "cell_type": "code",
   "execution_count": 38,
   "metadata": {},
   "outputs": [],
   "source": [
    "def save_midi(score, filepath):\n",
    "    score.write('midi', fp=filepath)"
   ]
  },
  {
   "cell_type": "code",
   "execution_count": 5,
   "metadata": {},
   "outputs": [],
   "source": [
    "def roll_dice(number_of_faces=6):\n",
    "    return random.randint(1, number_of_faces)"
   ]
  },
  {
   "cell_type": "code",
   "execution_count": 60,
   "metadata": {},
   "outputs": [],
   "source": [
    "def wuerfelspiel(length, number_of_faces=6):\n",
    "    return [roll_dice(number_of_faces=number_of_faces) for _ in range(length)]"
   ]
  },
  {
   "cell_type": "code",
   "execution_count": 67,
   "metadata": {},
   "outputs": [
    {
     "name": "stdout",
     "output_type": "stream",
     "text": [
      "16 Takte in dieser MIDI-Datei gefunden\n"
     ]
    }
   ],
   "source": [
    "score = load_midi(filepath)\n",
    "num_measures = get_number_of_measures(score)\n",
    "print(f\"{num_measures} Takte in dieser MIDI-Datei gefunden\")\n",
    "wuerfelspiel_selection = wuerfelspiel(16, number_of_faces=num_measures)\n",
    "selected_measures = select_measures(score, wuerfelspiel_selection)\n",
    "new_score = create_score(selected_measures)\n",
    "save_midi(new_score, '/Users/matthiaslang/Downloads/selected_measures.mid')\n"
   ]
  },
  {
   "cell_type": "code",
   "execution_count": 5,
   "metadata": {},
   "outputs": [
    {
     "data": {
      "text/html": [
       "<div>\n",
       "<style scoped>\n",
       "    .dataframe tbody tr th:only-of-type {\n",
       "        vertical-align: middle;\n",
       "    }\n",
       "\n",
       "    .dataframe tbody tr th {\n",
       "        vertical-align: top;\n",
       "    }\n",
       "\n",
       "    .dataframe thead th {\n",
       "        text-align: right;\n",
       "    }\n",
       "</style>\n",
       "<table border=\"1\" class=\"dataframe\">\n",
       "  <thead>\n",
       "    <tr style=\"text-align: right;\">\n",
       "      <th></th>\n",
       "      <th>1</th>\n",
       "      <th>2</th>\n",
       "      <th>3</th>\n",
       "      <th>4</th>\n",
       "      <th>5</th>\n",
       "      <th>6</th>\n",
       "      <th>7</th>\n",
       "      <th>8</th>\n",
       "      <th>9</th>\n",
       "      <th>10</th>\n",
       "      <th>11</th>\n",
       "      <th>12</th>\n",
       "      <th>13</th>\n",
       "      <th>14</th>\n",
       "      <th>15</th>\n",
       "      <th>16</th>\n",
       "    </tr>\n",
       "  </thead>\n",
       "  <tbody>\n",
       "    <tr>\n",
       "      <th>2</th>\n",
       "      <td>96</td>\n",
       "      <td>22</td>\n",
       "      <td>141</td>\n",
       "      <td>41</td>\n",
       "      <td>105</td>\n",
       "      <td>122</td>\n",
       "      <td>11</td>\n",
       "      <td>90</td>\n",
       "      <td>70</td>\n",
       "      <td>121</td>\n",
       "      <td>26</td>\n",
       "      <td>9</td>\n",
       "      <td>112</td>\n",
       "      <td>49</td>\n",
       "      <td>109</td>\n",
       "      <td>14</td>\n",
       "    </tr>\n",
       "    <tr>\n",
       "      <th>3</th>\n",
       "      <td>32</td>\n",
       "      <td>6</td>\n",
       "      <td>128</td>\n",
       "      <td>69</td>\n",
       "      <td>146</td>\n",
       "      <td>46</td>\n",
       "      <td>134</td>\n",
       "      <td>81</td>\n",
       "      <td>117</td>\n",
       "      <td>39</td>\n",
       "      <td>126</td>\n",
       "      <td>56</td>\n",
       "      <td>174</td>\n",
       "      <td>18</td>\n",
       "      <td>116</td>\n",
       "      <td>83</td>\n",
       "    </tr>\n",
       "    <tr>\n",
       "      <th>4</th>\n",
       "      <td>69</td>\n",
       "      <td>95</td>\n",
       "      <td>158</td>\n",
       "      <td>19</td>\n",
       "      <td>159</td>\n",
       "      <td>55</td>\n",
       "      <td>110</td>\n",
       "      <td>24</td>\n",
       "      <td>66</td>\n",
       "      <td>139</td>\n",
       "      <td>15</td>\n",
       "      <td>132</td>\n",
       "      <td>73</td>\n",
       "      <td>58</td>\n",
       "      <td>145</td>\n",
       "      <td>79</td>\n",
       "    </tr>\n",
       "    <tr>\n",
       "      <th>5</th>\n",
       "      <td>40</td>\n",
       "      <td>17</td>\n",
       "      <td>113</td>\n",
       "      <td>85</td>\n",
       "      <td>161</td>\n",
       "      <td>2</td>\n",
       "      <td>159</td>\n",
       "      <td>100</td>\n",
       "      <td>90</td>\n",
       "      <td>176</td>\n",
       "      <td>7</td>\n",
       "      <td>34</td>\n",
       "      <td>67</td>\n",
       "      <td>160</td>\n",
       "      <td>52</td>\n",
       "      <td>170</td>\n",
       "    </tr>\n",
       "    <tr>\n",
       "      <th>6</th>\n",
       "      <td>148</td>\n",
       "      <td>74</td>\n",
       "      <td>163</td>\n",
       "      <td>45</td>\n",
       "      <td>80</td>\n",
       "      <td>97</td>\n",
       "      <td>36</td>\n",
       "      <td>107</td>\n",
       "      <td>25</td>\n",
       "      <td>143</td>\n",
       "      <td>64</td>\n",
       "      <td>125</td>\n",
       "      <td>76</td>\n",
       "      <td>136</td>\n",
       "      <td>1</td>\n",
       "      <td>93</td>\n",
       "    </tr>\n",
       "    <tr>\n",
       "      <th>7</th>\n",
       "      <td>104</td>\n",
       "      <td>157</td>\n",
       "      <td>27</td>\n",
       "      <td>167</td>\n",
       "      <td>154</td>\n",
       "      <td>68</td>\n",
       "      <td>118</td>\n",
       "      <td>91</td>\n",
       "      <td>138</td>\n",
       "      <td>71</td>\n",
       "      <td>150</td>\n",
       "      <td>29</td>\n",
       "      <td>101</td>\n",
       "      <td>162</td>\n",
       "      <td>23</td>\n",
       "      <td>151</td>\n",
       "    </tr>\n",
       "    <tr>\n",
       "      <th>8</th>\n",
       "      <td>152</td>\n",
       "      <td>60</td>\n",
       "      <td>171</td>\n",
       "      <td>53</td>\n",
       "      <td>99</td>\n",
       "      <td>133</td>\n",
       "      <td>21</td>\n",
       "      <td>127</td>\n",
       "      <td>16</td>\n",
       "      <td>155</td>\n",
       "      <td>57</td>\n",
       "      <td>175</td>\n",
       "      <td>43</td>\n",
       "      <td>168</td>\n",
       "      <td>89</td>\n",
       "      <td>172</td>\n",
       "    </tr>\n",
       "    <tr>\n",
       "      <th>9</th>\n",
       "      <td>119</td>\n",
       "      <td>84</td>\n",
       "      <td>114</td>\n",
       "      <td>50</td>\n",
       "      <td>140</td>\n",
       "      <td>86</td>\n",
       "      <td>169</td>\n",
       "      <td>94</td>\n",
       "      <td>120</td>\n",
       "      <td>88</td>\n",
       "      <td>48</td>\n",
       "      <td>166</td>\n",
       "      <td>51</td>\n",
       "      <td>115</td>\n",
       "      <td>72</td>\n",
       "      <td>111</td>\n",
       "    </tr>\n",
       "    <tr>\n",
       "      <th>10</th>\n",
       "      <td>98</td>\n",
       "      <td>142</td>\n",
       "      <td>42</td>\n",
       "      <td>156</td>\n",
       "      <td>75</td>\n",
       "      <td>129</td>\n",
       "      <td>62</td>\n",
       "      <td>123</td>\n",
       "      <td>65</td>\n",
       "      <td>77</td>\n",
       "      <td>19</td>\n",
       "      <td>82</td>\n",
       "      <td>137</td>\n",
       "      <td>38</td>\n",
       "      <td>149</td>\n",
       "      <td>8</td>\n",
       "    </tr>\n",
       "    <tr>\n",
       "      <th>11</th>\n",
       "      <td>3</td>\n",
       "      <td>87</td>\n",
       "      <td>165</td>\n",
       "      <td>61</td>\n",
       "      <td>135</td>\n",
       "      <td>47</td>\n",
       "      <td>147</td>\n",
       "      <td>33</td>\n",
       "      <td>102</td>\n",
       "      <td>4</td>\n",
       "      <td>31</td>\n",
       "      <td>164</td>\n",
       "      <td>144</td>\n",
       "      <td>59</td>\n",
       "      <td>173</td>\n",
       "      <td>78</td>\n",
       "    </tr>\n",
       "    <tr>\n",
       "      <th>12</th>\n",
       "      <td>54</td>\n",
       "      <td>130</td>\n",
       "      <td>10</td>\n",
       "      <td>103</td>\n",
       "      <td>28</td>\n",
       "      <td>37</td>\n",
       "      <td>106</td>\n",
       "      <td>5</td>\n",
       "      <td>35</td>\n",
       "      <td>20</td>\n",
       "      <td>108</td>\n",
       "      <td>92</td>\n",
       "      <td>12</td>\n",
       "      <td>124</td>\n",
       "      <td>44</td>\n",
       "      <td>131</td>\n",
       "    </tr>\n",
       "  </tbody>\n",
       "</table>\n",
       "</div>"
      ],
      "text/plain": [
       "      1    2    3    4    5    6    7    8    9   10   11   12   13   14   15  \\\n",
       "2    96   22  141   41  105  122   11   90   70  121   26    9  112   49  109   \n",
       "3    32    6  128   69  146   46  134   81  117   39  126   56  174   18  116   \n",
       "4    69   95  158   19  159   55  110   24   66  139   15  132   73   58  145   \n",
       "5    40   17  113   85  161    2  159  100   90  176    7   34   67  160   52   \n",
       "6   148   74  163   45   80   97   36  107   25  143   64  125   76  136    1   \n",
       "7   104  157   27  167  154   68  118   91  138   71  150   29  101  162   23   \n",
       "8   152   60  171   53   99  133   21  127   16  155   57  175   43  168   89   \n",
       "9   119   84  114   50  140   86  169   94  120   88   48  166   51  115   72   \n",
       "10   98  142   42  156   75  129   62  123   65   77   19   82  137   38  149   \n",
       "11    3   87  165   61  135   47  147   33  102    4   31  164  144   59  173   \n",
       "12   54  130   10  103   28   37  106    5   35   20  108   92   12  124   44   \n",
       "\n",
       "     16  \n",
       "2    14  \n",
       "3    83  \n",
       "4    79  \n",
       "5   170  \n",
       "6    93  \n",
       "7   151  \n",
       "8   172  \n",
       "9   111  \n",
       "10    8  \n",
       "11   78  \n",
       "12  131  "
      ]
     },
     "execution_count": 5,
     "metadata": {},
     "output_type": "execute_result"
    }
   ],
   "source": [
    "# load csv\n",
    "mozart_table = pd.read_csv('mozart_table.csv', index_col=0)\n",
    "mozart_table"
   ]
  },
  {
   "cell_type": "code",
   "execution_count": 6,
   "metadata": {},
   "outputs": [],
   "source": [
    "# turn column names into integers\n",
    "mozart_table.columns = mozart_table.columns.astype(int)"
   ]
  },
  {
   "cell_type": "code",
   "execution_count": 9,
   "metadata": {},
   "outputs": [
    {
     "data": {
      "text/plain": [
       "41"
      ]
     },
     "execution_count": 9,
     "metadata": {},
     "output_type": "execute_result"
    }
   ],
   "source": [
    "mozart_table.loc[2,4]"
   ]
  },
  {
   "cell_type": "code",
   "execution_count": 102,
   "metadata": {},
   "outputs": [],
   "source": [
    "def wuerfelspiel_from_table(table):\n",
    "    \"\"\"\n",
    "    Simuliert das Würfelspiel nach Mozarts Tabelle und gibt die ausgewählten Takte zurück.\n",
    "    \"\"\"\n",
    "    rolls = [roll_dice(number_of_faces=6) + roll_dice(number_of_faces=6) for _ in range(16)]\n",
    "    print(f\"Gewürfelt wurde {rolls}\")\n",
    "    return [table.loc[roll][i] for i, roll in enumerate(rolls)]"
   ]
  },
  {
   "cell_type": "code",
   "execution_count": 9,
   "metadata": {},
   "outputs": [],
   "source": [
    "def roll_multiple_dice(number_of_dice, number_of_rolls, number_of_faces=6):\n",
    "    return [sum([roll_dice(number_of_faces=number_of_faces) for _ in range(number_of_dice)]) for _ in range(number_of_rolls)]"
   ]
  },
  {
   "cell_type": "code",
   "execution_count": 10,
   "metadata": {},
   "outputs": [
    {
     "data": {
      "text/plain": [
       "[10, 7, 7, 10, 5, 9, 9, 6, 9, 9, 11, 7, 6, 5, 11, 4]"
      ]
     },
     "execution_count": 10,
     "metadata": {},
     "output_type": "execute_result"
    }
   ],
   "source": [
    "roll_multiple_dice(2, 16)"
   ]
  },
  {
   "cell_type": "code",
   "execution_count": 99,
   "metadata": {},
   "outputs": [
    {
     "data": {
      "text/plain": [
       "22"
      ]
     },
     "execution_count": 99,
     "metadata": {},
     "output_type": "execute_result"
    }
   ],
   "source": [
    "mozart_table.loc[2][1]"
   ]
  },
  {
   "cell_type": "code",
   "execution_count": 103,
   "metadata": {},
   "outputs": [
    {
     "name": "stdout",
     "output_type": "stream",
     "text": [
      "Gewürfelt wurde [6, 11, 7, 8, 8, 4, 8, 6, 4, 8, 10, 9, 4, 11, 8, 6]\n"
     ]
    },
    {
     "data": {
      "text/plain": [
       "[148, 87, 27, 53, 99, 55, 21, 107, 66, 155, 19, 166, 73, 59, 89, 93]"
      ]
     },
     "execution_count": 103,
     "metadata": {},
     "output_type": "execute_result"
    }
   ],
   "source": [
    "wuerfelspiel_from_table(mozart_table)"
   ]
  },
  {
   "cell_type": "code",
   "execution_count": null,
   "metadata": {},
   "outputs": [],
   "source": [
    "# set time signature to 3/4\n",
    "score = load_midi(filepath)\n",
    "score.parts[0].getElementsByClass('Measure')[0].timeSignature = music21.meter.TimeSignature('3/4')"
   ]
  },
  {
   "cell_type": "code",
   "execution_count": null,
   "metadata": {},
   "outputs": [],
   "source": [
    "# get current time\n",
    "current_time = music21.environment.getTimestamp()"
   ]
  }
 ],
 "metadata": {
  "kernelspec": {
   "display_name": "Python 3",
   "language": "python",
   "name": "python3"
  },
  "language_info": {
   "codemirror_mode": {
    "name": "ipython",
    "version": 3
   },
   "file_extension": ".py",
   "mimetype": "text/x-python",
   "name": "python",
   "nbconvert_exporter": "python",
   "pygments_lexer": "ipython3",
   "version": "3.11.7"
  }
 },
 "nbformat": 4,
 "nbformat_minor": 2
}
